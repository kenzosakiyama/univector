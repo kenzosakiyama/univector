{
 "cells": [
  {
   "cell_type": "code",
   "execution_count": 1,
   "metadata": {},
   "outputs": [],
   "source": [
    "from navigation.navigator import Navigator\n",
    "from navigation.arena_utils import *\n",
    "from navigation.un_field import create_unit_vector_from_angle\n",
    "from linear_algebra_2D.linalg import Vec2D"
   ]
  },
  {
   "cell_type": "markdown",
   "metadata": {},
   "source": [
    "# Definindo funções auxiliares"
   ]
  },
  {
   "cell_type": "code",
   "execution_count": 2,
   "metadata": {},
   "outputs": [],
   "source": [
    "from random import randint\n",
    "\n",
    "def create_random_vector() -> Vec2D:\n",
    "    # Cria um vetor aleatório dentro das dimensões da arena.\n",
    "    return Vec2D(randint(0, MAX_W_SIZE), randint(0, MAX_H_SIZE))"
   ]
  },
  {
   "cell_type": "code",
   "execution_count": 3,
   "metadata": {},
   "outputs": [],
   "source": [
    "import math\n",
    "\n",
    "def rad2degree(theta: float):\n",
    "    return theta * 180 / math.pi"
   ]
  },
  {
   "cell_type": "code",
   "execution_count": 4,
   "metadata": {},
   "outputs": [],
   "source": [
    "from typing import List, Tuple\n",
    "\n",
    "def run_iterative_univector(navigator, \n",
    "                            origin_pos: Vec2D, \n",
    "                            target_pos: Vec2D, \n",
    "                            obstacles: List[Vec2D],\n",
    "                            step_size: float = 3, \n",
    "                            acceptance_radius: float = 4,\n",
    "                            max_iter=500,\n",
    "                            add_border_obst: bool = True) -> Tuple[Vec2D, Vec2D]:\n",
    "\n",
    "    axis_origins = []\n",
    "    axis = []\n",
    "\n",
    "    i = 0\n",
    "    origin_pos = origin_pos.copy()\n",
    "\n",
    "    print(f\"Origem: {origin_pos}, Destino: {target_pos}\")\n",
    "\n",
    "    while (origin_pos - target_pos).norm() > acceptance_radius:\n",
    "\n",
    "        if i > max_iter: break\n",
    "\n",
    "        theta = navigator.get_angle(\n",
    "            origin_pos,\n",
    "            target_pos,\n",
    "            obstacles,\n",
    "            add_border_obst=add_border_obst\n",
    "        )\n",
    "\n",
    "        axis_to_follow = create_unit_vector_from_angle(theta)\n",
    "\n",
    "        axis_origins.append(origin_pos)\n",
    "        axis.append(axis_to_follow)\n",
    "\n",
    "        origin_pos += step_size * axis_to_follow\n",
    "\n",
    "        i += 1\n",
    "    \n",
    "    print(f\"Finalizado com {i} iterações. Angulo final: {rad2degree(theta)}\")\n",
    "    return axis_origins, axis"
   ]
  },
  {
   "cell_type": "code",
   "execution_count": 5,
   "metadata": {},
   "outputs": [],
   "source": [
    "import matplotlib.pyplot as plt\n",
    "\n",
    "def plot_trajectory(origin_pos: Vec2D,\n",
    "                    target_pos: Vec2D,\n",
    "                    obstacles: List[Vec2D],\n",
    "                    axis_to_follow: List[Vec2D],\n",
    "                    axis_origins: List[Vec2D],\n",
    "                    plot_scale: float = 0.7) -> None:\n",
    "    \n",
    "    plt.figure(figsize=(15*plot_scale, 13*plot_scale), dpi=80)\n",
    "\n",
    "    # Plota a origem e objetivo\n",
    "    a = plt.scatter(\n",
    "        [origin_pos[0], target_pos[0]],\n",
    "        [origin_pos[1], target_pos[1]], \n",
    "        color=[\"b\", \"g\"], s=200\n",
    "    )\n",
    "\n",
    "    # Desenhando contornos da arena\n",
    "    rect = plt.Rectangle((0, 0), 150, 130, linewidth=2, edgecolor='r', facecolor='none')\n",
    "    a.axes.add_patch(rect)\n",
    "\n",
    "    # Desenhando obstáculos como círculos vermelhos\n",
    "    # TODO: tamanho hardcoded, corrigir depois\n",
    "    for ob in obstacles:\n",
    "        circ = plt.Circle((ob[0], ob[1]), 3.5, color='r')\n",
    "        a.axes.add_patch(circ)\n",
    "\n",
    "    # Desenhando vetores\n",
    "    plt.quiver(\n",
    "        [vec[0] for vec in axis_origins],\n",
    "        [vec[1] for vec in axis_origins],\n",
    "        [vec[0] for vec in axis_to_follow],\n",
    "        [vec[1] for vec in axis_to_follow],\n",
    "        scale=100\n",
    "    )"
   ]
  },
  {
   "cell_type": "markdown",
   "metadata": {},
   "source": [
    "# Funções auxiliares para criar pontos dentro de seções"
   ]
  },
  {
   "cell_type": "code",
   "execution_count": 6,
   "metadata": {},
   "outputs": [],
   "source": [
    "# Constantes auxiliares\n",
    "BORDER_SIZE = 10"
   ]
  },
  {
   "cell_type": "code",
   "execution_count": 7,
   "metadata": {},
   "outputs": [],
   "source": [
    "def create_vector_in_center_area() -> Vec2D:\n",
    "    \n",
    "    return Vec2D(randint(0, MAX_W_SIZE), randint(BORDER_SIZE, MAX_H_SIZE-BORDER_SIZE))"
   ]
  },
  {
   "cell_type": "code",
   "execution_count": 8,
   "metadata": {},
   "outputs": [],
   "source": [
    "def create_vector_in_down_border() -> Vec2D:\n",
    "    \n",
    "    return Vec2D(randint(0, MAX_W_SIZE), randint(0, BORDER_SIZE))"
   ]
  },
  {
   "cell_type": "code",
   "execution_count": 9,
   "metadata": {},
   "outputs": [],
   "source": [
    "def create_vector_in_up_border() -> Vec2D:\n",
    "    \n",
    "    return Vec2D(randint(0, MAX_W_SIZE), randint(MAX_H_SIZE-BORDER_SIZE, MAX_H_SIZE))"
   ]
  },
  {
   "cell_type": "code",
   "execution_count": 10,
   "metadata": {},
   "outputs": [],
   "source": [
    "def create_vector_in_left_corners() -> Vec2D:\n",
    "    \n",
    "    up = randint(0,1)\n",
    "    sqr_side = int(SQUARE_SIDE)\n",
    "\n",
    "    if up:\n",
    "        return Vec2D(randint(0, sqr_side), randint(130 - sqr_side, 130))\n",
    "    else:\n",
    "        return Vec2D(randint(0, sqr_side), randint(0, sqr_side))"
   ]
  },
  {
   "cell_type": "code",
   "execution_count": 11,
   "metadata": {},
   "outputs": [],
   "source": [
    "def create_vector_in_right_corners() -> Vec2D:\n",
    "    \n",
    "    up = randint(0,1)\n",
    "    sqr_side = int(SQUARE_SIDE)\n",
    "\n",
    "    if up:\n",
    "        return Vec2D(randint(150 - sqr_side, 150), randint(130 - sqr_side, 130))\n",
    "    else:\n",
    "        return Vec2D(randint(150 - sqr_side, 150), randint(0, sqr_side))"
   ]
  },
  {
   "cell_type": "markdown",
   "metadata": {},
   "source": [
    "# Instanciando Navigator"
   ]
  },
  {
   "cell_type": "code",
   "execution_count": 12,
   "metadata": {},
   "outputs": [],
   "source": [
    "team_side = TeamSide.LEFT"
   ]
  },
  {
   "cell_type": "code",
   "execution_count": 13,
   "metadata": {},
   "outputs": [],
   "source": [
    "navigator = Navigator(\n",
    "    team_side=team_side,\n",
    "    univector_parameters_path=\"data/univector_params_red_dragons.json\",\n",
    ")"
   ]
  },
  {
   "cell_type": "markdown",
   "metadata": {},
   "source": [
    "# Instanciando robô e obstáculos"
   ]
  },
  {
   "cell_type": "code",
   "execution_count": 14,
   "metadata": {},
   "outputs": [],
   "source": [
    "n_obstacles = 2                                                     # Número de obstáculos a criar\n",
    "origin_pos = create_random_vector()                                 # Origem em um ponto aleatório\n",
    "obstacles = [create_random_vector() for _ in range(n_obstacles)]    # Criando obstáculos aleatórios"
   ]
  },
  {
   "cell_type": "markdown",
   "metadata": {},
   "source": [
    "# Alvo no centro da arena\n",
    "\n",
    "Neste caso o robo deve se aproximar à posição alvo alinhado em relação ao gol adversário."
   ]
  },
  {
   "cell_type": "code",
   "execution_count": 15,
   "metadata": {},
   "outputs": [
    {
     "name": "stdout",
     "output_type": "stream",
     "text": [
      "Origem: Vec2(92, 31), Destino: Vec2(71, 80)\n",
      "Angulo desej:  -10.75642003974074 // correct axis:  Vec2(79, -15) // offset:  Vec2(0.0, 0.0) // border obst:  True\n",
      "Angulo desej:  -10.75642003974074 // correct axis:  Vec2(79, -15) // offset:  Vec2(0.0, 0.0) // border obst:  True\n",
      "Angulo desej:  -10.75642003974074 // correct axis:  Vec2(79, -15) // offset:  Vec2(0.0, 0.0) // border obst:  True\n",
      "Angulo desej:  -10.75642003974074 // correct axis:  Vec2(79, -15) // offset:  Vec2(0.0, 0.0) // border obst:  True\n",
      "Angulo desej:  -10.75642003974074 // correct axis:  Vec2(79, -15) // offset:  Vec2(0.0, 0.0) // border obst:  True\n",
      "Angulo desej:  -10.75642003974074 // correct axis:  Vec2(79, -15) // offset:  Vec2(0.0, 0.0) // border obst:  True\n",
      "Angulo desej:  -10.75642003974074 // correct axis:  Vec2(79, -15) // offset:  Vec2(0.0, 0.0) // border obst:  True\n",
      "Angulo desej:  -10.75642003974074 // correct axis:  Vec2(79, -15) // offset:  Vec2(0.0, 0.0) // border obst:  True\n",
      "Angulo desej:  -10.75642003974074 // correct axis:  Vec2(79, -15) // offset:  Vec2(0.0, 0.0) // border obst:  True\n",
      "Angulo desej:  -10.75642003974074 // correct axis:  Vec2(79, -15) // offset:  Vec2(0.0, 0.0) // border obst:  True\n",
      "Angulo desej:  -10.75642003974074 // correct axis:  Vec2(79, -15) // offset:  Vec2(0.0, 0.0) // border obst:  True\n",
      "Angulo desej:  -10.75642003974074 // correct axis:  Vec2(79, -15) // offset:  Vec2(0.0, 0.0) // border obst:  True\n",
      "Angulo desej:  -10.75642003974074 // correct axis:  Vec2(79, -15) // offset:  Vec2(0.0, 0.0) // border obst:  True\n",
      "Angulo desej:  -10.75642003974074 // correct axis:  Vec2(79, -15) // offset:  Vec2(0.0, 0.0) // border obst:  True\n",
      "Angulo desej:  -10.75642003974074 // correct axis:  Vec2(79, -15) // offset:  Vec2(0.0, 0.0) // border obst:  True\n",
      "Angulo desej:  -10.75642003974074 // correct axis:  Vec2(79, -15) // offset:  Vec2(0.0, 0.0) // border obst:  True\n",
      "Angulo desej:  -10.75642003974074 // correct axis:  Vec2(79, -15) // offset:  Vec2(0.0, 0.0) // border obst:  True\n",
      "Angulo desej:  -10.75642003974074 // correct axis:  Vec2(79, -15) // offset:  Vec2(0.0, 0.0) // border obst:  True\n",
      "Angulo desej:  -10.75642003974074 // correct axis:  Vec2(79, -15) // offset:  Vec2(0.0, 0.0) // border obst:  True\n",
      "Angulo desej:  -10.75642003974074 // correct axis:  Vec2(79, -15) // offset:  Vec2(0.0, 0.0) // border obst:  True\n",
      "Finalizado com 20 iterações. Angulo final: 12.619510654325126\n"
     ]
    },
    {
     "data": {
      "image/png": "[encoded data removed]",
      "text/plain": [
       "<Figure size 840x728 with 1 Axes>"
      ]
     },
     "metadata": {
      "needs_background": "light"
     },
     "output_type": "display_data"
    }
   ],
   "source": [
    "target_pos = create_vector_in_center_area()\n",
    "axis_origins, axis_to_follow = run_iterative_univector(navigator, origin_pos, target_pos, obstacles)\n",
    "plot_trajectory(origin_pos, target_pos, obstacles, axis_to_follow, axis_origins)"
   ]
  },
  {
   "cell_type": "markdown",
   "metadata": {},
   "source": [
    "# Alvo na borda inferior"
   ]
  },
  {
   "cell_type": "code",
   "execution_count": 21,
   "metadata": {},
   "outputs": [
    {
     "data": {
      "text/plain": [
       "Vec2(45, 3)"
      ]
     },
     "execution_count": 21,
     "metadata": {},
     "output_type": "execute_result"
    }
   ],
   "source": [
    "target_pos = create_vector_in_down_border()\n",
    "target_pos"
   ]
  },
  {
   "cell_type": "code",
   "execution_count": 23,
   "metadata": {},
   "outputs": [
    {
     "name": "stdout",
     "output_type": "stream",
     "text": [
      "Origem: Vec2(92, 31), Destino: Vec2(45, 3)\n",
      "Angulo desej:  -45.022824653356906 // correct axis:  Vec2(1.0, 0.0) // offset:  Vec2(0.0, 1.0) // border obst:  True\n",
      "Angulo desej:  -45.022824653356906 // correct axis:  Vec2(1.0, 0.0) // offset:  Vec2(0.0, 1.0) // border obst:  True\n",
      "Angulo desej:  -45.022824653356906 // correct axis:  Vec2(1.0, 0.0) // offset:  Vec2(0.0, 1.0) // border obst:  True\n",
      "Angulo desej:  -45.022824653356906 // correct axis:  Vec2(1.0, 0.0) // offset:  Vec2(0.0, 1.0) // border obst:  True\n",
      "Angulo desej:  -45.022824653356906 // correct axis:  Vec2(1.0, 0.0) // offset:  Vec2(0.0, 1.0) // border obst:  True\n",
      "Angulo desej:  -45.022824653356906 // correct axis:  Vec2(1.0, 0.0) // offset:  Vec2(0.0, 1.0) // border obst:  True\n",
      "Angulo desej:  -45.022824653356906 // correct axis:  Vec2(1.0, 0.0) // offset:  Vec2(0.0, 1.0) // border obst:  True\n",
      "Angulo desej:  -45.022824653356906 // correct axis:  Vec2(1.0, 0.0) // offset:  Vec2(0.0, 1.0) // border obst:  True\n",
      "Angulo desej:  -45.022824653356906 // correct axis:  Vec2(1.0, 0.0) // offset:  Vec2(0.0, 1.0) // border obst:  True\n",
      "Angulo desej:  -45.022824653356906 // correct axis:  Vec2(1.0, 0.0) // offset:  Vec2(0.0, 1.0) // border obst:  True\n",
      "Angulo desej:  -45.022824653356906 // correct axis:  Vec2(1.0, 0.0) // offset:  Vec2(0.0, 1.0) // border obst:  True\n",
      "Angulo desej:  -45.022824653356906 // correct axis:  Vec2(1.0, 0.0) // offset:  Vec2(0.0, 1.0) // border obst:  True\n",
      "Angulo desej:  -45.022824653356906 // correct axis:  Vec2(1.0, 0.0) // offset:  Vec2(0.0, 1.0) // border obst:  True\n",
      "Angulo desej:  -45.022824653356906 // correct axis:  Vec2(1.0, 0.0) // offset:  Vec2(0.0, 1.0) // border obst:  True\n",
      "Angulo desej:  -45.022824653356906 // correct axis:  Vec2(1.0, 0.0) // offset:  Vec2(0.0, 1.0) // border obst:  True\n",
      "Angulo desej:  -45.022824653356906 // correct axis:  Vec2(1.0, 0.0) // offset:  Vec2(0.0, 1.0) // border obst:  True\n",
      "Angulo desej:  -45.022824653356906 // correct axis:  Vec2(1.0, 0.0) // offset:  Vec2(0.0, 1.0) // border obst:  True\n",
      "Angulo desej:  -45.022824653356906 // correct axis:  Vec2(1.0, 0.0) // offset:  Vec2(0.0, 1.0) // border obst:  True\n",
      "Angulo desej:  -45.022824653356906 // correct axis:  Vec2(1.0, 0.0) // offset:  Vec2(0.0, 1.0) // border obst:  True\n",
      "Angulo desej:  -45.022824653356906 // correct axis:  Vec2(1.0, 0.0) // offset:  Vec2(0.0, 1.0) // border obst:  True\n",
      "Finalizado com 20 iterações. Angulo final: -68.11117850933367\n"
     ]
    },
    {
     "data": {
      "image/png": "[encoded data removed]",
      "text/plain": [
       "<Figure size 840x728 with 1 Axes>"
      ]
     },
     "metadata": {
      "needs_background": "light"
     },
     "output_type": "display_data"
    }
   ],
   "source": [
    "axis_origins, axis_to_follow = run_iterative_univector(navigator, origin_pos, target_pos, obstacles, add_border_obst=True)\n",
    "plot_trajectory(origin_pos, target_pos, obstacles, axis_to_follow, axis_origins)"
   ]
  },
  {
   "cell_type": "markdown",
   "metadata": {},
   "source": [
    "# Alvo na borda superior"
   ]
  },
  {
   "cell_type": "code",
   "execution_count": 18,
   "metadata": {},
   "outputs": [
    {
     "name": "stdout",
     "output_type": "stream",
     "text": [
      "Origem: Vec2(92, 31), Destino: Vec2(106, 126)\n",
      "Angulo desej:  45.022824653356906 // correct axis:  Vec2(1.0, 0.0) // offset:  Vec2(0.0, -1.0) // border obst:  True\n",
      "Angulo desej:  45.022824653356906 // correct axis:  Vec2(1.0, 0.0) // offset:  Vec2(0.0, -1.0) // border obst:  True\n",
      "Angulo desej:  45.022824653356906 // correct axis:  Vec2(1.0, 0.0) // offset:  Vec2(0.0, -1.0) // border obst:  True\n",
      "Angulo desej:  45.022824653356906 // correct axis:  Vec2(1.0, 0.0) // offset:  Vec2(0.0, -1.0) // border obst:  True\n",
      "Angulo desej:  45.022824653356906 // correct axis:  Vec2(1.0, 0.0) // offset:  Vec2(0.0, -1.0) // border obst:  True\n",
      "Angulo desej:  45.022824653356906 // correct axis:  Vec2(1.0, 0.0) // offset:  Vec2(0.0, -1.0) // border obst:  True\n",
      "Angulo desej:  45.022824653356906 // correct axis:  Vec2(1.0, 0.0) // offset:  Vec2(0.0, -1.0) // border obst:  True\n",
      "Angulo desej:  45.022824653356906 // correct axis:  Vec2(1.0, 0.0) // offset:  Vec2(0.0, -1.0) // border obst:  True\n",
      "Angulo desej:  45.022824653356906 // correct axis:  Vec2(1.0, 0.0) // offset:  Vec2(0.0, -1.0) // border obst:  True\n",
      "Angulo desej:  45.022824653356906 // correct axis:  Vec2(1.0, 0.0) // offset:  Vec2(0.0, -1.0) // border obst:  True\n",
      "Angulo desej:  45.022824653356906 // correct axis:  Vec2(1.0, 0.0) // offset:  Vec2(0.0, -1.0) // border obst:  True\n",
      "Angulo desej:  45.022824653356906 // correct axis:  Vec2(1.0, 0.0) // offset:  Vec2(0.0, -1.0) // border obst:  True\n",
      "Angulo desej:  45.022824653356906 // correct axis:  Vec2(1.0, 0.0) // offset:  Vec2(0.0, -1.0) // border obst:  True\n",
      "Angulo desej:  45.022824653356906 // correct axis:  Vec2(1.0, 0.0) // offset:  Vec2(0.0, -1.0) // border obst:  True\n",
      "Angulo desej:  45.022824653356906 // correct axis:  Vec2(1.0, 0.0) // offset:  Vec2(0.0, -1.0) // border obst:  True\n",
      "Angulo desej:  45.022824653356906 // correct axis:  Vec2(1.0, 0.0) // offset:  Vec2(0.0, -1.0) // border obst:  True\n",
      "Angulo desej:  45.022824653356906 // correct axis:  Vec2(1.0, 0.0) // offset:  Vec2(0.0, -1.0) // border obst:  True\n",
      "Angulo desej:  45.022824653356906 // correct axis:  Vec2(1.0, 0.0) // offset:  Vec2(0.0, -1.0) // border obst:  True\n",
      "Angulo desej:  45.022824653356906 // correct axis:  Vec2(1.0, 0.0) // offset:  Vec2(0.0, -1.0) // border obst:  True\n",
      "Angulo desej:  45.022824653356906 // correct axis:  Vec2(1.0, 0.0) // offset:  Vec2(0.0, -1.0) // border obst:  True\n",
      "Angulo desej:  45.022824653356906 // correct axis:  Vec2(1.0, 0.0) // offset:  Vec2(0.0, -1.0) // border obst:  True\n",
      "Angulo desej:  45.022824653356906 // correct axis:  Vec2(1.0, 0.0) // offset:  Vec2(0.0, -1.0) // border obst:  True\n",
      "Angulo desej:  45.022824653356906 // correct axis:  Vec2(1.0, 0.0) // offset:  Vec2(0.0, -1.0) // border obst:  True\n",
      "Angulo desej:  45.022824653356906 // correct axis:  Vec2(1.0, 0.0) // offset:  Vec2(0.0, -1.0) // border obst:  True\n",
      "Angulo desej:  45.022824653356906 // correct axis:  Vec2(1.0, 0.0) // offset:  Vec2(0.0, -1.0) // border obst:  True\n",
      "Angulo desej:  45.022824653356906 // correct axis:  Vec2(1.0, 0.0) // offset:  Vec2(0.0, -1.0) // border obst:  True\n",
      "Angulo desej:  45.022824653356906 // correct axis:  Vec2(1.0, 0.0) // offset:  Vec2(0.0, -1.0) // border obst:  True\n",
      "Angulo desej:  45.022824653356906 // correct axis:  Vec2(1.0, 0.0) // offset:  Vec2(0.0, -1.0) // border obst:  True\n",
      "Angulo desej:  45.022824653356906 // correct axis:  Vec2(1.0, 0.0) // offset:  Vec2(0.0, -1.0) // border obst:  True\n",
      "Angulo desej:  45.022824653356906 // correct axis:  Vec2(1.0, 0.0) // offset:  Vec2(0.0, -1.0) // border obst:  True\n",
      "Angulo desej:  45.022824653356906 // correct axis:  Vec2(1.0, 0.0) // offset:  Vec2(0.0, -1.0) // border obst:  True\n",
      "Angulo desej:  45.022824653356906 // correct axis:  Vec2(1.0, 0.0) // offset:  Vec2(0.0, -1.0) // border obst:  True\n",
      "Angulo desej:  45.022824653356906 // correct axis:  Vec2(1.0, 0.0) // offset:  Vec2(0.0, -1.0) // border obst:  True\n",
      "Finalizado com 33 iterações. Angulo final: 45.861164266908006\n"
     ]
    },
    {
     "data": {
      "image/png": "[encoded data removed]",
      "text/plain": [
       "<Figure size 840x728 with 1 Axes>"
      ]
     },
     "metadata": {
      "needs_background": "light"
     },
     "output_type": "display_data"
    }
   ],
   "source": [
    "target_pos = create_vector_in_up_border()\n",
    "axis_origins, axis_to_follow = run_iterative_univector(navigator, origin_pos, target_pos, obstacles)\n",
    "plot_trajectory(origin_pos, target_pos, obstacles, axis_to_follow, axis_origins)"
   ]
  },
  {
   "cell_type": "markdown",
   "metadata": {},
   "source": [
    "# Alvo nos cantos esquerdos"
   ]
  },
  {
   "cell_type": "code",
   "execution_count": 19,
   "metadata": {},
   "outputs": [
    {
     "name": "stdout",
     "output_type": "stream",
     "text": [
      "Origem: Vec2(92, 31), Destino: Vec2(3, 16)\n",
      "Angulo desej:  45.022824653356906 // correct axis:  Vec2(0.0, 1.0) // offset:  Vec2(-1.0, 0.0) // border obst:  True\n",
      "Angulo desej:  45.022824653356906 // correct axis:  Vec2(0.0, 1.0) // offset:  Vec2(-1.0, 0.0) // border obst:  True\n",
      "Angulo desej:  45.022824653356906 // correct axis:  Vec2(0.0, 1.0) // offset:  Vec2(-1.0, 0.0) // border obst:  True\n",
      "Angulo desej:  45.022824653356906 // correct axis:  Vec2(0.0, 1.0) // offset:  Vec2(-1.0, 0.0) // border obst:  True\n",
      "Angulo desej:  45.022824653356906 // correct axis:  Vec2(0.0, 1.0) // offset:  Vec2(-1.0, 0.0) // border obst:  True\n",
      "Angulo desej:  45.022824653356906 // correct axis:  Vec2(0.0, 1.0) // offset:  Vec2(-1.0, 0.0) // border obst:  True\n",
      "Angulo desej:  45.022824653356906 // correct axis:  Vec2(0.0, 1.0) // offset:  Vec2(-1.0, 0.0) // border obst:  True\n",
      "Angulo desej:  45.022824653356906 // correct axis:  Vec2(0.0, 1.0) // offset:  Vec2(-1.0, 0.0) // border obst:  True\n",
      "Angulo desej:  45.022824653356906 // correct axis:  Vec2(0.0, 1.0) // offset:  Vec2(-1.0, 0.0) // border obst:  True\n",
      "Angulo desej:  45.022824653356906 // correct axis:  Vec2(0.0, 1.0) // offset:  Vec2(-1.0, 0.0) // border obst:  True\n",
      "Angulo desej:  45.022824653356906 // correct axis:  Vec2(0.0, 1.0) // offset:  Vec2(-1.0, 0.0) // border obst:  True\n",
      "Angulo desej:  45.022824653356906 // correct axis:  Vec2(0.0, 1.0) // offset:  Vec2(-1.0, 0.0) // border obst:  True\n",
      "Angulo desej:  45.022824653356906 // correct axis:  Vec2(0.0, 1.0) // offset:  Vec2(-1.0, 0.0) // border obst:  True\n",
      "Angulo desej:  45.022824653356906 // correct axis:  Vec2(0.0, 1.0) // offset:  Vec2(-1.0, 0.0) // border obst:  True\n",
      "Angulo desej:  45.022824653356906 // correct axis:  Vec2(0.0, 1.0) // offset:  Vec2(-1.0, 0.0) // border obst:  True\n",
      "Angulo desej:  45.022824653356906 // correct axis:  Vec2(0.0, 1.0) // offset:  Vec2(-1.0, 0.0) // border obst:  True\n",
      "Angulo desej:  45.022824653356906 // correct axis:  Vec2(0.0, 1.0) // offset:  Vec2(-1.0, 0.0) // border obst:  True\n",
      "Angulo desej:  45.022824653356906 // correct axis:  Vec2(0.0, 1.0) // offset:  Vec2(-1.0, 0.0) // border obst:  True\n",
      "Angulo desej:  45.022824653356906 // correct axis:  Vec2(0.0, 1.0) // offset:  Vec2(-1.0, 0.0) // border obst:  True\n",
      "Angulo desej:  45.022824653356906 // correct axis:  Vec2(0.0, 1.0) // offset:  Vec2(-1.0, 0.0) // border obst:  True\n",
      "Angulo desej:  45.022824653356906 // correct axis:  Vec2(0.0, 1.0) // offset:  Vec2(-1.0, 0.0) // border obst:  True\n",
      "Angulo desej:  45.022824653356906 // correct axis:  Vec2(0.0, 1.0) // offset:  Vec2(-1.0, 0.0) // border obst:  True\n",
      "Angulo desej:  45.022824653356906 // correct axis:  Vec2(0.0, 1.0) // offset:  Vec2(-1.0, 0.0) // border obst:  True\n",
      "Angulo desej:  45.022824653356906 // correct axis:  Vec2(0.0, 1.0) // offset:  Vec2(-1.0, 0.0) // border obst:  True\n",
      "Angulo desej:  45.022824653356906 // correct axis:  Vec2(0.0, 1.0) // offset:  Vec2(-1.0, 0.0) // border obst:  True\n",
      "Angulo desej:  45.022824653356906 // correct axis:  Vec2(0.0, 1.0) // offset:  Vec2(-1.0, 0.0) // border obst:  True\n",
      "Angulo desej:  45.022824653356906 // correct axis:  Vec2(0.0, 1.0) // offset:  Vec2(-1.0, 0.0) // border obst:  True\n",
      "Angulo desej:  45.022824653356906 // correct axis:  Vec2(0.0, 1.0) // offset:  Vec2(-1.0, 0.0) // border obst:  True\n",
      "Angulo desej:  45.022824653356906 // correct axis:  Vec2(0.0, 1.0) // offset:  Vec2(-1.0, 0.0) // border obst:  True\n",
      "Angulo desej:  45.022824653356906 // correct axis:  Vec2(0.0, 1.0) // offset:  Vec2(-1.0, 0.0) // border obst:  True\n",
      "Angulo desej:  45.022824653356906 // correct axis:  Vec2(0.0, 1.0) // offset:  Vec2(-1.0, 0.0) // border obst:  True\n",
      "Angulo desej:  45.022824653356906 // correct axis:  Vec2(0.0, 1.0) // offset:  Vec2(-1.0, 0.0) // border obst:  True\n",
      "Finalizado com 32 iterações. Angulo final: 88.06153182518617\n"
     ]
    },
    {
     "data": {
      "image/png": "[encoded data removed]",
      "text/plain": [
       "<Figure size 840x728 with 1 Axes>"
      ]
     },
     "metadata": {
      "needs_background": "light"
     },
     "output_type": "display_data"
    }
   ],
   "source": [
    "target_pos = create_vector_in_left_corners()\n",
    "axis_origins, axis_to_follow = run_iterative_univector(navigator, origin_pos, target_pos, obstacles)\n",
    "plot_trajectory(origin_pos, target_pos, obstacles, axis_to_follow, axis_origins)"
   ]
  },
  {
   "cell_type": "markdown",
   "metadata": {},
   "source": [
    "# Alvos nos cantos direitos"
   ]
  },
  {
   "cell_type": "code",
   "execution_count": 20,
   "metadata": {},
   "outputs": [
    {
     "name": "stdout",
     "output_type": "stream",
     "text": [
      "Origem: Vec2(92, 31), Destino: Vec2(141, 13)\n",
      "Angulo desej:  45.022824653356906 // correct axis:  Vec2(0.0, 1.0) // offset:  Vec2(-1.0, 0.0) // border obst:  True\n",
      "Angulo desej:  45.022824653356906 // correct axis:  Vec2(0.0, 1.0) // offset:  Vec2(-1.0, 0.0) // border obst:  True\n",
      "Angulo desej:  45.022824653356906 // correct axis:  Vec2(0.0, 1.0) // offset:  Vec2(-1.0, 0.0) // border obst:  True\n",
      "Angulo desej:  45.022824653356906 // correct axis:  Vec2(0.0, 1.0) // offset:  Vec2(-1.0, 0.0) // border obst:  True\n",
      "Angulo desej:  45.022824653356906 // correct axis:  Vec2(0.0, 1.0) // offset:  Vec2(-1.0, 0.0) // border obst:  True\n",
      "Angulo desej:  45.022824653356906 // correct axis:  Vec2(0.0, 1.0) // offset:  Vec2(-1.0, 0.0) // border obst:  True\n",
      "Angulo desej:  45.022824653356906 // correct axis:  Vec2(0.0, 1.0) // offset:  Vec2(-1.0, 0.0) // border obst:  True\n",
      "Angulo desej:  45.022824653356906 // correct axis:  Vec2(0.0, 1.0) // offset:  Vec2(-1.0, 0.0) // border obst:  True\n",
      "Angulo desej:  45.022824653356906 // correct axis:  Vec2(0.0, 1.0) // offset:  Vec2(-1.0, 0.0) // border obst:  True\n",
      "Angulo desej:  45.022824653356906 // correct axis:  Vec2(0.0, 1.0) // offset:  Vec2(-1.0, 0.0) // border obst:  True\n",
      "Angulo desej:  45.022824653356906 // correct axis:  Vec2(0.0, 1.0) // offset:  Vec2(-1.0, 0.0) // border obst:  True\n",
      "Angulo desej:  45.022824653356906 // correct axis:  Vec2(0.0, 1.0) // offset:  Vec2(-1.0, 0.0) // border obst:  True\n",
      "Angulo desej:  45.022824653356906 // correct axis:  Vec2(0.0, 1.0) // offset:  Vec2(-1.0, 0.0) // border obst:  True\n",
      "Angulo desej:  45.022824653356906 // correct axis:  Vec2(0.0, 1.0) // offset:  Vec2(-1.0, 0.0) // border obst:  True\n",
      "Angulo desej:  45.022824653356906 // correct axis:  Vec2(0.0, 1.0) // offset:  Vec2(-1.0, 0.0) // border obst:  True\n",
      "Angulo desej:  45.022824653356906 // correct axis:  Vec2(0.0, 1.0) // offset:  Vec2(-1.0, 0.0) // border obst:  True\n",
      "Angulo desej:  45.022824653356906 // correct axis:  Vec2(0.0, 1.0) // offset:  Vec2(-1.0, 0.0) // border obst:  True\n",
      "Angulo desej:  45.022824653356906 // correct axis:  Vec2(0.0, 1.0) // offset:  Vec2(-1.0, 0.0) // border obst:  True\n",
      "Angulo desej:  45.022824653356906 // correct axis:  Vec2(0.0, 1.0) // offset:  Vec2(-1.0, 0.0) // border obst:  True\n",
      "Finalizado com 19 iterações. Angulo final: 39.93688038646514\n"
     ]
    },
    {
     "data": {
      "image/png": "[encoded data removed]",
      "text/plain": [
       "<Figure size 840x728 with 1 Axes>"
      ]
     },
     "metadata": {
      "needs_background": "light"
     },
     "output_type": "display_data"
    }
   ],
   "source": [
    "target_pos = create_vector_in_right_corners() \n",
    "axis_origins, axis_to_follow = run_iterative_univector(navigator, origin_pos, target_pos, obstacles)\n",
    "plot_trajectory(origin_pos, target_pos, obstacles, axis_to_follow, axis_origins)"
   ]
  },
  {
   "cell_type": "code",
   "execution_count": null,
   "metadata": {},
   "outputs": [],
   "source": []
  }
 ],
 "metadata": {
  "interpreter": {
   "hash": "15dd738912741cafc329f532bc5a7bf40f04fdecea46f4fb13ca1958e96d04fc"
  },
  "kernelspec": {
   "display_name": "Python 3.9.5 64-bit (conda)",
   "language": "python",
   "name": "python3"
  },
  "language_info": {
   "codemirror_mode": {
    "name": "ipython",
    "version": 3
   },
   "file_extension": ".py",
   "mimetype": "text/x-python",
   "name": "python",
   "nbconvert_exporter": "python",
   "pygments_lexer": "ipython3",
   "version": "3.8.10"
  },
  "orig_nbformat": 4
 },
 "nbformat": 4,
 "nbformat_minor": 2
}
