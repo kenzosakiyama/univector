{
 "cells": [
  {
   "cell_type": "code",
   "execution_count": 1,
   "metadata": {},
   "outputs": [],
   "source": [
    "from un_field import *\n",
    "import math\n",
    "from typing import List, Tuple\n",
    "from random import randint\n",
    "import matplotlib.pyplot as plt"
   ]
  },
  {
   "cell_type": "markdown",
   "metadata": {},
   "source": [
    "# Definindo funções auxiliares"
   ]
  },
  {
   "cell_type": "code",
   "execution_count": 2,
   "metadata": {},
   "outputs": [],
   "source": [
    "def rad2degree(theta: float):\n",
    "    return theta * 180 / math.pi"
   ]
  },
  {
   "cell_type": "code",
   "execution_count": 3,
   "metadata": {},
   "outputs": [],
   "source": [
    "def create_random_vector() -> Vec2D:\n",
    "    # Cria um vetor aleatório dentro das dimensões da arena.\n",
    "    return Vec2D(randint(0, 150), randint(0, 130))"
   ]
  },
  {
   "cell_type": "code",
   "execution_count": 4,
   "metadata": {},
   "outputs": [],
   "source": [
    "def run_iterative_univector(univector, \n",
    "                            origin_pos: Vec2D, \n",
    "                            target_pos: Vec2D, \n",
    "                            approach_angle: float,\n",
    "                            obstacles: List[Vec2D],\n",
    "                            step_size: float = 3, \n",
    "                            acceptance_radius: float = 4,\n",
    "                            max_iter=1000) -> Tuple[Vec2D, Vec2D]:\n",
    "\n",
    "    axis_origins = []\n",
    "    axis = []\n",
    "\n",
    "    i = 0\n",
    "    origin_pos = origin_pos.copy()\n",
    "\n",
    "    print(f\"Origem: {origin_pos}, Destino: {target_pos}\")\n",
    "\n",
    "    while (origin_pos - target_pos).norm() > acceptance_radius:\n",
    "\n",
    "        if i > max_iter: break\n",
    "\n",
    "        theta = univector.get_angle(\n",
    "            origin_pos,\n",
    "            target_pos,\n",
    "            approach_angle,\n",
    "            obstacles\n",
    "        )\n",
    "\n",
    "        axis_to_follow = create_unit_vector_from_angle(theta)\n",
    "\n",
    "        axis_origins.append(origin_pos)\n",
    "        axis.append(axis_to_follow)\n",
    "\n",
    "        origin_pos += step_size * axis_to_follow\n",
    "\n",
    "        i += 1\n",
    "    \n",
    "    print(f\"Finalizado com {i} iterações.\")\n",
    "    return axis_origins, axis"
   ]
  },
  {
   "cell_type": "code",
   "execution_count": 5,
   "metadata": {},
   "outputs": [],
   "source": [
    "def plot_trajectory(origin_pos: Vec2D,\n",
    "                    target_pos: Vec2D,\n",
    "                    obstacles: List[Vec2D],\n",
    "                    axis_to_follow: List[Vec2D],\n",
    "                    axis_origins: List[Vec2D],\n",
    "                    plot_scale: float = 0.7) -> None:\n",
    "    \n",
    "    plt.figure(figsize=(15*plot_scale, 13*plot_scale), dpi=80)\n",
    "\n",
    "    # Plota a origem e objetivo\n",
    "    a = plt.scatter(\n",
    "        [origin_pos[0], target_pos[0]],\n",
    "        [origin_pos[1], target_pos[1]], \n",
    "        color=[\"b\", \"g\"], s=200\n",
    "    )\n",
    "\n",
    "    # Desenhando contornos da arena\n",
    "    rect = plt.Rectangle((0, 0), 150, 130, linewidth=2, edgecolor='r', facecolor='none')\n",
    "    a.axes.add_patch(rect)\n",
    "\n",
    "    # Desenhando obstáculos como círculos vermelhos\n",
    "    for ob in obstacles:\n",
    "        circ = plt.Circle((ob[0], ob[1]), params[\"DMIN\"], color='r')\n",
    "        a.axes.add_patch(circ)\n",
    "\n",
    "    # Desenhando vetores\n",
    "    plt.quiver(\n",
    "        [vec[0] for vec in axis_origins],\n",
    "        [vec[1] for vec in axis_origins],\n",
    "        [vec[0] for vec in axis_to_follow],\n",
    "        [vec[1] for vec in axis_to_follow],\n",
    "        scale=100\n",
    "    )"
   ]
  },
  {
   "cell_type": "markdown",
   "metadata": {},
   "source": [
    "# Especificação dos parâmetros do Univector"
   ]
  },
  {
   "cell_type": "code",
   "execution_count": 6,
   "metadata": {},
   "outputs": [],
   "source": [
    "# Ararabots\n",
    "# params = {\n",
    "#     \"DMIN\": 5.0,\n",
    "#     \"K0\": 0.0,\n",
    "#     \"KR\": 38,\n",
    "#     \"LDELTA\": 1.94,\n",
    "#     \"RADIUS\": 6.0\n",
    "# }\n",
    "\n",
    "# Red Dragons\n",
    "params = {\n",
    "    \"DMIN\": 3.5,\n",
    "    \"K0\": 0.5,\n",
    "    \"KR\": 4,\n",
    "    \"LDELTA\": 3.5,\n",
    "    \"RADIUS\": 6.0\n",
    "}"
   ]
  },
  {
   "cell_type": "code",
   "execution_count": 7,
   "metadata": {},
   "outputs": [],
   "source": [
    "univector = UnivectorField.from_dict(params)"
   ]
  },
  {
   "cell_type": "markdown",
   "metadata": {},
   "source": [
    "# Plot"
   ]
  },
  {
   "cell_type": "code",
   "execution_count": 8,
   "metadata": {},
   "outputs": [],
   "source": [
    "step_size = 3\n",
    "acceptance_radius = 6\n",
    "max_iter = 1000"
   ]
  },
  {
   "cell_type": "code",
   "execution_count": 9,
   "metadata": {},
   "outputs": [],
   "source": [
    "n_obstacles = 5                                                     # Número de obstáculos a criar\n",
    "approach_angle = math.pi/6                                          # Ângulo com o qual se deseja chegar ao ponto alvo\n",
    "\n",
    "origin_pos = create_random_vector()                                 # Origem em um ponto aleatório\n",
    "target_pos = create_random_vector()                                 # Alvo em um ponto aleatório\n",
    "\n",
    "obstacles = [create_random_vector() for _ in range(n_obstacles)]    # Criando obstáculos aleatórios"
   ]
  },
  {
   "cell_type": "code",
   "execution_count": 10,
   "metadata": {},
   "outputs": [
    {
     "name": "stdout",
     "output_type": "stream",
     "text": [
      "Origem: Vec2(24, 88), Destino: Vec2(141, 47)\n",
      "Finalizado com 42 iterações.\n"
     ]
    }
   ],
   "source": [
    "axis_origins, axis_to_follow = run_iterative_univector(\n",
    "    univector,\n",
    "    origin_pos,\n",
    "    target_pos,\n",
    "    approach_angle,\n",
    "    obstacles,\n",
    "    step_size=step_size,\n",
    "    acceptance_radius=acceptance_radius,\n",
    "    max_iter=max_iter\n",
    ")"
   ]
  },
  {
   "cell_type": "code",
   "execution_count": 11,
   "metadata": {},
   "outputs": [
    {
     "data": {
      "image/png": "[encoded data removed]",
      "text/plain": [
       "<Figure size 840x728 with 1 Axes>"
      ]
     },
     "metadata": {
      "needs_background": "light"
     },
     "output_type": "display_data"
    }
   ],
   "source": [
    "plot_trajectory(\n",
    "    origin_pos,\n",
    "    target_pos, \n",
    "    obstacles, \n",
    "    axis_to_follow,\n",
    "    axis_origins\n",
    ")"
   ]
  },
  {
   "cell_type": "code",
   "execution_count": null,
   "metadata": {},
   "outputs": [],
   "source": []
  },
  {
   "cell_type": "code",
   "execution_count": null,
   "metadata": {},
   "outputs": [],
   "source": []
  }
 ],
 "metadata": {
  "interpreter": {
   "hash": "916dbcbb3f70747c44a77c7bcd40155683ae19c65e1c03b4aa3499c5328201f1"
  },
  "kernelspec": {
   "display_name": "Python 3.8.10 64-bit",
   "language": "python",
   "name": "python3"
  },
  "language_info": {
   "codemirror_mode": {
    "name": "ipython",
    "version": 3
   },
   "file_extension": ".py",
   "mimetype": "text/x-python",
   "name": "python",
   "nbconvert_exporter": "python",
   "pygments_lexer": "ipython3",
   "version": "3.9.5"
  },
  "orig_nbformat": 4
 },
 "nbformat": 4,
 "nbformat_minor": 2
}
