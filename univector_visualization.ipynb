{
 "cells": [
  {
   "cell_type": "code",
   "execution_count": 99,
   "metadata": {},
   "outputs": [],
   "source": [
    "from un_field import *\n",
    "import math"
   ]
  },
  {
   "cell_type": "code",
   "execution_count": 100,
   "metadata": {},
   "outputs": [],
   "source": [
    "def rad2degree(theta: float):\n",
    "    return theta * 180 / math.pi"
   ]
  },
  {
   "cell_type": "code",
   "execution_count": 101,
   "metadata": {},
   "outputs": [],
   "source": [
    "# params = {\n",
    "#     \"DMIN\": 5.0,\n",
    "#     \"K0\": 0.0,\n",
    "#     \"KR\": 38,\n",
    "#     \"LDELTA\": 1.94,\n",
    "#     \"RADIUS\": 6.0\n",
    "# }\n",
    "\n",
    "params = {\n",
    "    \"DMIN\": 3.5,\n",
    "    \"K0\": 0.5,\n",
    "    \"KR\": 4,\n",
    "    \"LDELTA\": 3.5,\n",
    "    \"RADIUS\": 6.0\n",
    "}"
   ]
  },
  {
   "cell_type": "code",
   "execution_count": 102,
   "metadata": {},
   "outputs": [],
   "source": [
    "univector = UnivectorField.from_dict(params)"
   ]
  },
  {
   "cell_type": "code",
   "execution_count": 103,
   "metadata": {},
   "outputs": [],
   "source": [
    "origin_pos = Vec2D.origin()\n",
    "target_pos = Vec2D(10,10)\n",
    "approach_angle = 0 \n",
    "\n",
    "# obst = []\n",
    "obst = [Vec2D(2,8)]"
   ]
  },
  {
   "cell_type": "code",
   "execution_count": 104,
   "metadata": {},
   "outputs": [
    {
     "name": "stdout",
     "output_type": "stream",
     "text": [
      "160.59598099274885\n"
     ]
    }
   ],
   "source": [
    "theta = univector.get_angle(\n",
    "    origin_pos,\n",
    "    target_pos,\n",
    "    approach_angle,\n",
    "    obst\n",
    ")\n",
    "\n",
    "print(rad2degree(theta))"
   ]
  },
  {
   "cell_type": "markdown",
   "metadata": {},
   "source": [
    "# Plot"
   ]
  },
  {
   "cell_type": "code",
   "execution_count": 105,
   "metadata": {},
   "outputs": [],
   "source": [
    "from random import randint"
   ]
  },
  {
   "cell_type": "code",
   "execution_count": 106,
   "metadata": {},
   "outputs": [],
   "source": [
    "# origin_pos = Vec2D(40, 65)\n",
    "# target_pos = Vec2D(70,50)\n",
    "\n",
    "origin_pos = Vec2D(randint(0, 150), randint(0, 130))\n",
    "target_pos = Vec2D(randint(0, 150), randint(0, 130))\n",
    "\n",
    "approach_angle = 0\n",
    "\n",
    "# obst = []\n",
    "obst = [\n",
    "    Vec2D(randint(0, 150), randint(0, 130)),\n",
    "    Vec2D(randint(0, 150), randint(0, 130)),\n",
    "    Vec2D(randint(0, 150), randint(0, 130)),\n",
    "    Vec2D(randint(0, 150), randint(0, 130)), \n",
    "    Vec2D(randint(0, 150), randint(0, 130))\n",
    "]"
   ]
  },
  {
   "cell_type": "code",
   "execution_count": 107,
   "metadata": {},
   "outputs": [],
   "source": [
    "import matplotlib.pyplot as plt"
   ]
  },
  {
   "cell_type": "code",
   "execution_count": 108,
   "metadata": {},
   "outputs": [],
   "source": [
    "acceptance_radius = 4\n",
    "step_size = 2\n",
    "max_iter = 15000"
   ]
  },
  {
   "cell_type": "code",
   "execution_count": 109,
   "metadata": {},
   "outputs": [],
   "source": [
    "\n",
    "axis_origins = []\n",
    "axis = []\n",
    "\n",
    "i = 0\n",
    "copy_origin = origin_pos.copy()\n",
    "\n",
    "while (origin_pos - target_pos).norm() > acceptance_radius:\n",
    "\n",
    "    if i > max_iter: break\n",
    "\n",
    "    theta = univector.get_angle(\n",
    "        origin_pos,\n",
    "        target_pos,\n",
    "        approach_angle,\n",
    "        obst\n",
    "    )\n",
    "\n",
    "    axis_to_follow = create_axis_from_angle(theta)\n",
    "\n",
    "    axis_origins.append(origin_pos)\n",
    "    axis.append(axis_to_follow)\n",
    "\n",
    "    origin_pos += step_size * axis_to_follow\n",
    "\n",
    "    i += 1\n",
    "\n",
    "\n"
   ]
  },
  {
   "cell_type": "code",
   "execution_count": 110,
   "metadata": {},
   "outputs": [
    {
     "name": "stdout",
     "output_type": "stream",
     "text": [
      "39\n"
     ]
    }
   ],
   "source": [
    "print(i)"
   ]
  },
  {
   "cell_type": "code",
   "execution_count": 111,
   "metadata": {},
   "outputs": [
    {
     "data": {
      "text/plain": [
       "<matplotlib.quiver.Quiver at 0x7f735a32a670>"
      ]
     },
     "execution_count": 111,
     "metadata": {},
     "output_type": "execute_result"
    },
    {
     "data": {
      "image/png": "[encoded data removed]",
      "text/plain": [
       "<Figure size 1200x1040 with 1 Axes>"
      ]
     },
     "metadata": {
      "needs_background": "light"
     },
     "output_type": "display_data"
    }
   ],
   "source": [
    "plt.figure(figsize=(15, 13), dpi=80)\n",
    "\n",
    "# Origem e objetivo\n",
    "a = plt.scatter(\n",
    "    [copy_origin[0], target_pos[0]],\n",
    "    [copy_origin[1], target_pos[1]], \n",
    "    color=[\"b\", \"g\"], s=200\n",
    ")\n",
    "\n",
    "# Desenhando contornos da arena\n",
    "rect = plt.Rectangle((0, 0), 150, 130, linewidth=1, edgecolor='r', facecolor='none')\n",
    "a.axes.add_patch(rect)\n",
    "\n",
    "# Obstáculos como círculos vermelhos\n",
    "for ob in obst:\n",
    "    circ = plt.Circle((ob[0], ob[1]), params[\"DMIN\"], color='r')\n",
    "    a.axes.add_patch(circ)\n",
    "\n",
    "plt.quiver(\n",
    "    [vec[0] for vec in axis_origins],\n",
    "    [vec[1] for vec in axis_origins],\n",
    "    [vec[0] for vec in axis],\n",
    "    [vec[1] for vec in axis],\n",
    "    scale=100\n",
    ")"
   ]
  },
  {
   "cell_type": "code",
   "execution_count": null,
   "metadata": {},
   "outputs": [],
   "source": []
  },
  {
   "cell_type": "code",
   "execution_count": null,
   "metadata": {},
   "outputs": [],
   "source": []
  },
  {
   "cell_type": "code",
   "execution_count": null,
   "metadata": {},
   "outputs": [],
   "source": []
  }
 ],
 "metadata": {
  "interpreter": {
   "hash": "916dbcbb3f70747c44a77c7bcd40155683ae19c65e1c03b4aa3499c5328201f1"
  },
  "kernelspec": {
   "display_name": "Python 3.8.10 64-bit",
   "language": "python",
   "name": "python3"
  },
  "language_info": {
   "codemirror_mode": {
    "name": "ipython",
    "version": 3
   },
   "file_extension": ".py",
   "mimetype": "text/x-python",
   "name": "python",
   "nbconvert_exporter": "python",
   "pygments_lexer": "ipython3",
   "version": "3.8.10"
  },
  "orig_nbformat": 4
 },
 "nbformat": 4,
 "nbformat_minor": 2
}
